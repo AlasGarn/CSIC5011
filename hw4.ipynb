{
 "cells": [
  {
   "cell_type": "code",
   "execution_count": 14,
   "metadata": {
    "collapsed": true
   },
   "outputs": [],
   "source": [
    "%matplotlib inline\n",
    "from matplotlib.pyplot import *\n",
    "import numpy as np\n",
    "from scipy.linalg import svd"
   ]
  },
  {
   "cell_type": "markdown",
   "metadata": {},
   "source": [
    "# This is a robust PCA implementation, adapted from \n",
    "https://github.com/dfm/pcp/blob/master/pcp.py"
   ]
  },
  {
   "cell_type": "code",
   "execution_count": 4,
   "metadata": {
    "collapsed": true
   },
   "outputs": [],
   "source": [
    "import time\n",
    "import logging\n",
    "import numpy as np\n",
    "from scipy.sparse.linalg import svds\n",
    "\n",
    "def pcp(M, delta=1e-6, mu=None, maxiter=500, verbose=False, missing_data=True,\n",
    "        svd_method = \"exact\", **svd_args):\n",
    "    # Check the SVD method.a\n",
    "    allowed_methods = [\"exact\", \"sparse\"]\n",
    "    if svd_method not in allowed_methods:\n",
    "        raise ValueError(\"'svd_method' must be one of: {0}\"\n",
    "                         .format(allowed_methods))\n",
    "\n",
    "    # Check for missing data.\n",
    "    shape = M.shape\n",
    "    if missing_data:\n",
    "        missing = ~(np.isfinite(M))\n",
    "        if np.any(missing):\n",
    "            M = np.array(M)\n",
    "            M[missing] = 0.0\n",
    "    else:\n",
    "        missing = np.zeros_like(M, dtype=bool)\n",
    "        if not np.all(np.isfinite(M)):\n",
    "            logging.warn(\"The matrix has non-finite entries. \"\n",
    "                         \"SVD will probably fail.\")\n",
    "\n",
    "    # Initialize the tuning parameters.\n",
    "    lam = 1.0 / np.sqrt(np.max(shape))\n",
    "    if mu is None:\n",
    "        mu = 0.25 * np.prod(shape) / np.sum(np.abs(M))\n",
    "        if verbose:\n",
    "            print(\"mu = {0}\".format(mu))\n",
    "\n",
    "    # Convergence criterion.\n",
    "    norm = np.sum(M ** 2)\n",
    "\n",
    "    # Iterate.\n",
    "    i = 0\n",
    "    rank = np.min(shape)\n",
    "    S = np.zeros(shape)\n",
    "    Y = np.zeros(shape)\n",
    "    while i < max(maxiter, 1):\n",
    "        # SVD step.\n",
    "        strt = time.time()\n",
    "        u, s, v = _svd(svd_method, M - S + Y / mu, rank+1, 1./mu, **svd_args)\n",
    "        svd_time = time.time() - strt\n",
    "\n",
    "        s = shrink(s, 1./mu)\n",
    "        rank = np.sum(s > 0.0)\n",
    "        u, s, v = u[:, :rank], s[:rank], v[:rank, :]\n",
    "        L = np.dot(u, np.dot(np.diag(s), v))\n",
    "\n",
    "        # Shrinkage step.\n",
    "        S = shrink(M - L + Y / mu, lam / mu)\n",
    "\n",
    "        # Lagrange step.\n",
    "        step = M - L - S\n",
    "        step[missing] = 0.0\n",
    "        Y += mu * step\n",
    "\n",
    "        # Check for convergence.\n",
    "        err = np.sqrt(np.sum(step ** 2) / norm)\n",
    "        if verbose:\n",
    "            print((\"Iteration {0}: error={1:.3e}, rank={2:d}, nnz={3:d}, \"\n",
    "                   \"time={4:.3e}\")\n",
    "                  .format(i, err, np.sum(s > 0), np.sum(S > 0), svd_time))\n",
    "        if err < delta:\n",
    "            break\n",
    "        i += 1\n",
    "\n",
    "    if i >= maxiter:\n",
    "        pass\n",
    "     #   logging.warn(\"convergence not reached in pcp\")\n",
    "    return L, S, (u, s, v)\n",
    "\n",
    "\n",
    "def shrink(M, tau):\n",
    "    # used to reduce the absolute value of M by tau\n",
    "    # \n",
    "    sgn = np.sign(M)\n",
    "    S = np.abs(M) - tau\n",
    "    S[S < 0.0] = 0.0\n",
    "    return sgn * S\n",
    "\n",
    "\n",
    "def _svd(method, X, rank, tol, **args):\n",
    "    rank = min(rank, np.min(X.shape))\n",
    "    if method == \"exact\":\n",
    "        return np.linalg.svd(X, full_matrices=False, **args)\n",
    "    elif method == \"sparse\":\n",
    "        if rank >= np.min(X.shape):\n",
    "            return np.linalg.svd(X, full_matrices=False)\n",
    "        u, s, v = svds(X, k=rank, tol=tol)\n",
    "        u, s, v = u[:, ::-1], s[::-1], v[::-1, :]\n",
    "        return u, s, v\n",
    "    raise ValueError(\"invalid SVD method\")"
   ]
  },
  {
   "cell_type": "markdown",
   "metadata": {},
   "source": [
    "# RPCA"
   ]
  },
  {
   "cell_type": "markdown",
   "metadata": {},
   "source": [
    "сonstruct a random rank-r matrix: let A ∈ R\n",
    "m×n with aij ∼ N (0, 1) whose top-r\n",
    "singular value/vector is λi\n",
    ", ui ∈ R\n",
    "m and vi ∈ R\n",
    "n\n",
    "(i = 1, . . . , r), define L =\n",
    "Pr\n",
    "i=1 uiv\n",
    "T\n",
    "i\n",
    ". Construct\n",
    "a sparse matrix E with p percentage (p ∈ [0, 1]) nonzero entries distributed uniformly.\n",
    "Then define\n",
    "M = L + E.\n",
    "(a) Set m = n = 20, r = 1, and p = 0.1, use Matlab toolbox CVX to formulate a semidefinite\n",
    "program for Robust PCA of M:"
   ]
  },
  {
   "cell_type": "code",
   "execution_count": 5,
   "metadata": {
    "collapsed": true
   },
   "outputs": [],
   "source": [
    "m = 20 # dims\n",
    "n = 20\n",
    "\n",
    "p0 = 0.05 # non-zero prob\n",
    "p1 = 0.25\n",
    "\n",
    "r0 = 1 # rank\n",
    "r1 = 20\n",
    "\n",
    "nn = 20 # number of points to sample\n",
    "rep = 10 # repeats for probability estimate\n",
    "\n",
    "probs = [] # recovery\n",
    "\n",
    "for p in np.linspace(p0, p1, nn):\n",
    "    for r in range(r0, r1):\n",
    "        i = 0\n",
    "        for _ in range(rep):\n",
    "\n",
    "            A = np.random.normal(size = (m, n))\n",
    "            U, s, VT = svd(A, full_matrices = False)\n",
    "            L = np.dot(U[:r].reshape((U.shape[1], r)), (VT[:r]))\n",
    "\n",
    "            E = np.random.normal(size = (m, n))\n",
    "            zeros = np.random.rand(n, m)\n",
    "            E[zeros > p] = 0\n",
    "\n",
    "            M = L + E\n",
    "\n",
    "            RPCA = pcp(M, svd_method = \"exact\") # return L, S, (u, s, v)\n",
    "\n",
    "            if np.allclose(RPCA[0], L, atol=1e-5) \\\n",
    "                and np.allclose(RPCA[1], E, atol=1e-5):\n",
    "                i += 1.\n",
    "        probs.append(i / rep)     \n"
   ]
  },
  {
   "cell_type": "code",
   "execution_count": 12,
   "metadata": {
    "collapsed": true
   },
   "outputs": [],
   "source": [
    "ps = np.array(probs).reshape(nn,r1-r0)"
   ]
  },
  {
   "cell_type": "code",
   "execution_count": 18,
   "metadata": {
    "collapsed": false
   },
   "outputs": [
    {
     "data": {
      "text/plain": [
       "<matplotlib.text.Text at 0x7fbc8ec24e10>"
      ]
     },
     "execution_count": 18,
     "metadata": {},
     "output_type": "execute_result"
    },
    {
     "data": {
      "image/png": "[encoded data removed]",
      "text/plain": [
       "<matplotlib.figure.Figure at 0x7fbc8ed90790>"
      ]
     },
     "metadata": {},
     "output_type": "display_data"
    }
   ],
   "source": [
    "imshow(ps, cmap='hot', interpolation='nearest')\n",
    "xlabel('non-zero components')\n",
    "ylabel('rank')"
   ]
  },
  {
   "cell_type": "raw",
   "metadata": {},
   "source": [
    "The probability of successful recovery is very small, when \n",
    "ra\n",
    "In general we can conclude that RPCA works well, when the matrix is sparse and the rank of the "
   ]
  },
  {
   "cell_type": "markdown",
   "metadata": {
    "collapsed": false
   },
   "source": [
    "# SPCA "
   ]
  },
  {
   "cell_type": "code",
   "execution_count": 34,
   "metadata": {
    "collapsed": true
   },
   "outputs": [],
   "source": [
    "V1 = np.random.normal(0,290)\n",
    "V2 = np.random.normal(0,300)\n",
    "e = np.random.normal()\n",
    "V3 = -0.3*V1 + 0.925*V2 + e\n",
    "\n",
    "n_samples = 1000"
   ]
  },
  {
   "cell_type": "code",
   "execution_count": null,
   "metadata": {
    "collapsed": true
   },
   "outputs": [],
   "source": [
    "hidden = []"
   ]
  },
  {
   "cell_type": "code",
   "execution_count": 35,
   "metadata": {
    "collapsed": false
   },
   "outputs": [],
   "source": [
    "observed = []\n",
    "for _ in range(n_samples):\n",
    "    sample = [V1 + np.random.normal() for i in range(0,4)]\n",
    "    sample += [V2 + np.random.normal() for i in range(4,8)]\n",
    "    sample += [V3 + np.random.normal() for i in range(8,10)]\n",
    "    observed.append(sample)\n",
    "observed = np.array(observed)"
   ]
  },
  {
   "cell_type": "code",
   "execution_count": 39,
   "metadata": {
    "collapsed": true
   },
   "outputs": [],
   "source": [
    "o = observed - observed.mean(axis = 0)"
   ]
  },
  {
   "cell_type": "code",
   "execution_count": 60,
   "metadata": {
    "collapsed": false
   },
   "outputs": [],
   "source": [
    "sigma = np.dot(observed.T, observed)"
   ]
  },
  {
   "cell_type": "code",
   "execution_count": 61,
   "metadata": {
    "collapsed": false
   },
   "outputs": [
    {
     "data": {
      "text/plain": [
       "array([[  1.63834699e+08,   1.63830178e+08,   1.63829172e+08,\n",
       "          1.63832406e+08,   1.64045010e+08,   1.64053407e+08,\n",
       "          1.64057008e+08,   1.64031670e+08,   1.02674067e+08,\n",
       "          1.02683039e+08],\n",
       "       [  1.63830178e+08,   1.63827597e+08,   1.63825686e+08,\n",
       "          1.63828783e+08,   1.64041447e+08,   1.64049839e+08,\n",
       "          1.64053445e+08,   1.64028189e+08,   1.02671770e+08,\n",
       "          1.02680783e+08],\n",
       "       [  1.63829172e+08,   1.63825686e+08,   1.63825625e+08,\n",
       "          1.63827790e+08,   1.64040421e+08,   1.64048798e+08,\n",
       "          1.64052389e+08,   1.64027165e+08,   1.02671171e+08,\n",
       "          1.02680167e+08],\n",
       "       [  1.63832406e+08,   1.63828783e+08,   1.63827790e+08,\n",
       "          1.63831999e+08,   1.64043658e+08,   1.64052064e+08,\n",
       "          1.64055617e+08,   1.64030327e+08,   1.02673157e+08,\n",
       "          1.02682183e+08],\n",
       "       [  1.64045010e+08,   1.64041447e+08,   1.64040421e+08,\n",
       "          1.64043658e+08,   1.64257588e+08,   1.64264919e+08,\n",
       "          1.64268575e+08,   1.64243187e+08,   1.02806426e+08,\n",
       "          1.02815474e+08],\n",
       "       [  1.64053407e+08,   1.64049839e+08,   1.64048798e+08,\n",
       "          1.64052064e+08,   1.64264919e+08,   1.64274369e+08,\n",
       "          1.64276886e+08,   1.64251585e+08,   1.02811685e+08,\n",
       "          1.02820650e+08],\n",
       "       [  1.64057008e+08,   1.64053445e+08,   1.64052389e+08,\n",
       "          1.64055617e+08,   1.64268575e+08,   1.64276886e+08,\n",
       "          1.64281515e+08,   1.64255162e+08,   1.02813880e+08,\n",
       "          1.02822927e+08],\n",
       "       [  1.64031670e+08,   1.64028189e+08,   1.64027165e+08,\n",
       "          1.64030327e+08,   1.64243187e+08,   1.64251585e+08,\n",
       "          1.64255162e+08,   1.64231022e+08,   1.02798051e+08,\n",
       "          1.02807129e+08],\n",
       "       [  1.02674067e+08,   1.02671770e+08,   1.02671171e+08,\n",
       "          1.02673157e+08,   1.02806426e+08,   1.02811685e+08,\n",
       "          1.02813880e+08,   1.02798051e+08,   6.43464349e+07,\n",
       "          6.43510579e+07],\n",
       "       [  1.02683039e+08,   1.02680783e+08,   1.02680167e+08,\n",
       "          1.02682183e+08,   1.02815474e+08,   1.02820650e+08,\n",
       "          1.02822927e+08,   1.02807129e+08,   6.43510579e+07,\n",
       "          6.43577359e+07]])"
      ]
     },
     "execution_count": 61,
     "metadata": {},
     "output_type": "execute_result"
    }
   ],
   "source": [
    "sigma"
   ]
  },
  {
   "cell_type": "code",
   "execution_count": 62,
   "metadata": {
    "collapsed": false
   },
   "outputs": [
    {
     "data": {
      "text/plain": [
       "<matplotlib.image.AxesImage at 0x7fbc87f926d0>"
      ]
     },
     "execution_count": 62,
     "metadata": {},
     "output_type": "execute_result"
    },
    {
     "data": {
      "image/png": "[encoded data removed]",
      "text/plain": [
       "<matplotlib.figure.Figure at 0x7fbc8c05fa50>"
      ]
     },
     "metadata": {},
     "output_type": "display_data"
    }
   ],
   "source": [
    "imshow(sigma, interpolation=\"nearest\")"
   ]
  },
  {
   "cell_type": "code",
   "execution_count": 63,
   "metadata": {
    "collapsed": false
   },
   "outputs": [],
   "source": [
    "eigenval, eigenvec = np.linalg.eig(sigma)"
   ]
  },
  {
   "cell_type": "code",
   "execution_count": 65,
   "metadata": {
    "collapsed": false
   },
   "outputs": [
    {
     "data": {
      "text/plain": [
       "array([ 0.33717928,  0.23828762, -0.08031946,  0.47965576, -0.48279128,\n",
       "       -0.01157829,  0.19708156, -0.27625177,  0.49310948, -0.03838836])"
      ]
     },
     "execution_count": 65,
     "metadata": {},
     "output_type": "execute_result"
    }
   ],
   "source": [
    "eigenvec[0]"
   ]
  },
  {
   "cell_type": "code",
   "execution_count": null,
   "metadata": {
    "collapsed": true
   },
   "outputs": [],
   "source": []
  }
 ],
 "metadata": {
  "kernelspec": {
   "display_name": "Python 2",
   "language": "python",
   "name": "python2"
  },
  "language_info": {
   "codemirror_mode": {
    "name": "ipython",
    "version": 2
   },
   "file_extension": ".py",
   "mimetype": "text/x-python",
   "name": "python",
   "nbconvert_exporter": "python",
   "pygments_lexer": "ipython2",
   "version": "2.7.12"
  }
 },
 "nbformat": 4,
 "nbformat_minor": 1
}
